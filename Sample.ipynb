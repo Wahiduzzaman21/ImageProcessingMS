{
 "cells": [
  {
   "cell_type": "code",
   "execution_count": 139,
   "metadata": {},
   "outputs": [
    {
     "name": "stdout",
     "output_type": "stream",
     "text": [
      "[[   0    1    2 ...   29   30   31]\n",
      " [  32   33   34 ...   61   62   63]\n",
      " [  64   65   66 ...   93   94   95]\n",
      " ...\n",
      " [ 928  929  930 ...  957  958  959]\n",
      " [ 960  961  962 ...  989  990  991]\n",
      " [ 992  993  994 ... 1021 1022 1023]]\n"
     ]
    }
   ],
   "source": [
    "import numpy as np\n",
    "a = np.arange(1024).reshape(32,32)  \n",
    "print (a)"
   ]
  },
  {
   "cell_type": "code",
   "execution_count": 153,
   "metadata": {
    "scrolled": false
   },
   "outputs": [
    {
     "name": "stdout",
     "output_type": "stream",
     "text": [
      "[[  33.   35.   37.   39.   41.   43.   45.   47.   49.   51.   53.   55.\n",
      "    57.   59.   61.   63.]\n",
      " [  97.   99.  101.  103.  105.  107.  109.  111.  113.  115.  117.  119.\n",
      "   121.  123.  125.  127.]\n",
      " [ 161.  163.  165.  167.  169.  171.  173.  175.  177.  179.  181.  183.\n",
      "   185.  187.  189.  191.]\n",
      " [ 225.  227.  229.  231.  233.  235.  237.  239.  241.  243.  245.  247.\n",
      "   249.  251.  253.  255.]\n",
      " [ 289.  291.  293.  295.  297.  299.  301.  303.  305.  307.  309.  311.\n",
      "   313.  315.  317.  319.]\n",
      " [ 353.  355.  357.  359.  361.  363.  365.  367.  369.  371.  373.  375.\n",
      "   377.  379.  381.  383.]\n",
      " [ 417.  419.  421.  423.  425.  427.  429.  431.  433.  435.  437.  439.\n",
      "   441.  443.  445.  447.]\n",
      " [ 481.  483.  485.  487.  489.  491.  493.  495.  497.  499.  501.  503.\n",
      "   505.  507.  509.  511.]\n",
      " [ 545.  547.  549.  551.  553.  555.  557.  559.  561.  563.  565.  567.\n",
      "   569.  571.  573.  575.]\n",
      " [ 609.  611.  613.  615.  617.  619.  621.  623.  625.  627.  629.  631.\n",
      "   633.  635.  637.  639.]\n",
      " [ 673.  675.  677.  679.  681.  683.  685.  687.  689.  691.  693.  695.\n",
      "   697.  699.  701.  703.]\n",
      " [ 737.  739.  741.  743.  745.  747.  749.  751.  753.  755.  757.  759.\n",
      "   761.  763.  765.  767.]\n",
      " [ 801.  803.  805.  807.  809.  811.  813.  815.  817.  819.  821.  823.\n",
      "   825.  827.  829.  831.]\n",
      " [ 865.  867.  869.  871.  873.  875.  877.  879.  881.  883.  885.  887.\n",
      "   889.  891.  893.  895.]\n",
      " [ 929.  931.  933.  935.  937.  939.  941.  943.  945.  947.  949.  951.\n",
      "   953.  955.  957.  959.]\n",
      " [ 993.  995.  997.  999. 1001. 1003. 1005. 1007. 1009. 1011. 1013. 1015.\n",
      "  1017. 1019. 1021. 1023.]]\n",
      "(16, 16)\n"
     ]
    }
   ],
   "source": [
    "out = np.zeros((2,2))\n",
    "main_out = np.zeros((16,16))\n",
    "row_stride = -2;\n",
    "for row in range (16):\n",
    "    row_stride = row_stride+2\n",
    "    col_stride = -2;\n",
    "    for col in range (16):\n",
    "        col_stride = col_stride +2\n",
    "        for i in range(2):\n",
    "            for j in range(2):\n",
    "                out[i,j]= a[row_stride+i,col_stride+j]\n",
    "        main_out[row,col] = np.max(out)\n",
    "\n",
    "print(main_out)\n",
    "print(main_out.shape)"
   ]
  },
  {
   "cell_type": "code",
   "execution_count": null,
   "metadata": {},
   "outputs": [],
   "source": []
  },
  {
   "cell_type": "code",
   "execution_count": null,
   "metadata": {},
   "outputs": [],
   "source": []
  }
 ],
 "metadata": {
  "kernelspec": {
   "display_name": "Python 3",
   "language": "python",
   "name": "python3"
  },
  "language_info": {
   "codemirror_mode": {
    "name": "ipython",
    "version": 3
   },
   "file_extension": ".py",
   "mimetype": "text/x-python",
   "name": "python",
   "nbconvert_exporter": "python",
   "pygments_lexer": "ipython3",
   "version": "3.7.7"
  }
 },
 "nbformat": 4,
 "nbformat_minor": 4
}
